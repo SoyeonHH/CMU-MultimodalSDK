{
 "cells": [
  {
   "cell_type": "markdown",
   "source": [
    "# CMU-MOSI Multimodal SDK"
   ],
   "metadata": {}
  },
  {
   "cell_type": "markdown",
   "source": [
    "# Download and Process mosi"
   ],
   "metadata": {}
  },
  {
   "cell_type": "markdown",
   "source": [
    "### word level align"
   ],
   "metadata": {}
  },
  {
   "cell_type": "code",
   "execution_count": 1,
   "source": [
    "import mmsdk\n",
    "from mmsdk import mmdatasdk\n",
    "import numpy"
   ],
   "outputs": [],
   "metadata": {}
  },
  {
   "cell_type": "code",
   "execution_count": 2,
   "source": [
    "#A simple averaging technique. More advanced methods can be built based on intervals.\n",
    "def myavg(intervals,features):\n",
    "        return numpy.average(features,axis=0)"
   ],
   "outputs": [],
   "metadata": {}
  },
  {
   "cell_type": "code",
   "execution_count": 3,
   "source": [
    "#Downloading the dataset\n",
    "# cmumosi_highlevel=mmdatasdk.mmdataset(mmdatasdk.cmu_mosi.highlevel,'cmumosi/')\n",
    "cmumosi_highlevel=mmdatasdk.mmdataset('cmumosi/')"
   ],
   "outputs": [
    {
     "output_type": "stream",
     "name": "stderr",
     "text": [
      "  0%|          | 0/93 [00:00<?, ? Computational Sequence Entries/s]"
     ]
    },
    {
     "output_type": "stream",
     "name": "stdout",
     "text": [
      "\u001b[92m\u001b[1m[2021-10-14 09:09:55.292] | Success | \u001b[0mComputational sequence read from file cmumosi/CMU_MOSI_Visual_OpenFace_1.csd ...\n",
      "\u001b[94m\u001b[1m[2021-10-14 09:09:55.316] | Status  | \u001b[0mChecking the integrity of the <OpenFace_1> computational sequence ...\n",
      "\u001b[94m\u001b[1m[2021-10-14 09:09:55.316] | Status  | \u001b[0mChecking the format of the data in <OpenFace_1> computational sequence ...\n",
      "\u001b[92m\u001b[1m[2021-10-14 09:09:55.376] | Success | \u001b[0m<OpenFace_1> computational sequence data in correct format.\n",
      "\u001b[94m\u001b[1m[2021-10-14 09:09:55.376] | Status  | \u001b[0mChecking the format of the metadata in <OpenFace_1> computational sequence ...\n",
      "\u001b[93m\u001b[1m[2021-10-14 09:09:55.376] | Warning | \u001b[0m<OpenFace_1> computational sequence does not have all the required metadata ... continuing \n",
      "\u001b[92m\u001b[1m[2021-10-14 09:09:55.377] | Success | \u001b[0mComputational sequence read from file cmumosi/CMU_MOSI_Visual_Facet_42.csd ...\n",
      "\u001b[94m\u001b[1m[2021-10-14 09:09:55.398] | Status  | \u001b[0mChecking the integrity of the <FACET_4.2> computational sequence ...\n",
      "\u001b[94m\u001b[1m[2021-10-14 09:09:55.398] | Status  | \u001b[0mChecking the format of the data in <FACET_4.2> computational sequence ...\n",
      "\u001b[92m\u001b[1m[2021-10-14 09:09:55.464] | Success | \u001b[0m<FACET_4.2> computational sequence data in correct format.\n",
      "\u001b[94m\u001b[1m[2021-10-14 09:09:55.464] | Status  | \u001b[0mChecking the format of the metadata in <FACET_4.2> computational sequence ...\n",
      "\u001b[93m\u001b[1m[2021-10-14 09:09:55.464] | Warning | \u001b[0m<FACET_4.2> computational sequence does not have all the required metadata ... continuing \n",
      "\u001b[92m\u001b[1m[2021-10-14 09:09:55.465] | Success | \u001b[0mComputational sequence read from file cmumosi/CMU_MOSI_OpenSmile_EB10.csd ...\n",
      "\u001b[94m\u001b[1m[2021-10-14 09:09:55.488] | Status  | \u001b[0mChecking the integrity of the <OpenSmile_emobase2010> computational sequence ...\n",
      "\u001b[94m\u001b[1m[2021-10-14 09:09:55.488] | Status  | \u001b[0mChecking the format of the data in <OpenSmile_emobase2010> computational sequence ...\n"
     ]
    },
    {
     "output_type": "stream",
     "name": "stderr",
     "text": [
      "  0%|          | 0/93 [00:00<?, ? Computational Sequence Entries/s]"
     ]
    },
    {
     "output_type": "stream",
     "name": "stdout",
     "text": [
      "\u001b[92m\u001b[1m[2021-10-14 09:09:55.564] | Success | \u001b[0m<OpenSmile_emobase2010> computational sequence data in correct format.\n",
      "\u001b[94m\u001b[1m[2021-10-14 09:09:55.564] | Status  | \u001b[0mChecking the format of the metadata in <OpenSmile_emobase2010> computational sequence ...\n",
      "\u001b[93m\u001b[1m[2021-10-14 09:09:55.564] | Warning | \u001b[0m<OpenSmile_emobase2010> computational sequence does not have all the required metadata ... continuing \n",
      "\u001b[92m\u001b[1m[2021-10-14 09:09:55.566] | Success | \u001b[0mComputational sequence read from file cmumosi/CMU_MOSI_TimestampedWordVectors.csd ...\n",
      "\u001b[94m\u001b[1m[2021-10-14 09:09:55.582] | Status  | \u001b[0mChecking the integrity of the <glove_vectors> computational sequence ...\n",
      "\u001b[94m\u001b[1m[2021-10-14 09:09:55.582] | Status  | \u001b[0mChecking the format of the data in <glove_vectors> computational sequence ...\n",
      "\u001b[92m\u001b[1m[2021-10-14 09:09:55.640] | Success | \u001b[0m<glove_vectors> computational sequence data in correct format.\n",
      "\u001b[94m\u001b[1m[2021-10-14 09:09:55.641] | Status  | \u001b[0mChecking the format of the metadata in <glove_vectors> computational sequence ...\n",
      "\u001b[93m\u001b[1m[2021-10-14 09:09:55.641] | Warning | \u001b[0m<glove_vectors> computational sequence does not have all the required metadata ... continuing \n",
      "\u001b[92m\u001b[1m[2021-10-14 09:09:55.641] | Success | \u001b[0mComputational sequence read from file cmumosi/CMU_MOSI_Visual_Facet_41.csd ...\n",
      "\u001b[94m\u001b[1m[2021-10-14 09:09:55.662] | Status  | \u001b[0mChecking the integrity of the <FACET_4.1> computational sequence ...\n",
      "\u001b[94m\u001b[1m[2021-10-14 09:09:55.662] | Status  | \u001b[0mChecking the format of the data in <FACET_4.1> computational sequence ...\n",
      "\u001b[92m\u001b[1m[2021-10-14 09:09:55.726] | Success | \u001b[0m<FACET_4.1> computational sequence data in correct format.\n",
      "\u001b[94m\u001b[1m[2021-10-14 09:09:55.726] | Status  | \u001b[0mChecking the format of the metadata in <FACET_4.1> computational sequence ...\n",
      "\u001b[93m\u001b[1m[2021-10-14 09:09:55.726] | Warning | \u001b[0m<FACET_4.1> computational sequence does not have all the required metadata ... continuing \n",
      "\u001b[92m\u001b[1m[2021-10-14 09:09:55.727] | Success | \u001b[0mComputational sequence read from file cmumosi/CMU_MOSI_COVAREP.csd ...\n",
      "\u001b[94m\u001b[1m[2021-10-14 09:09:55.744] | Status  | \u001b[0mChecking the integrity of the <COVAREP> computational sequence ...\n",
      "\u001b[94m\u001b[1m[2021-10-14 09:09:55.744] | Status  | \u001b[0mChecking the format of the data in <COVAREP> computational sequence ...\n"
     ]
    },
    {
     "output_type": "stream",
     "name": "stderr",
     "text": [
      "  0%|          | 0/93 [00:00<?, ? Computational Sequence Entries/s]"
     ]
    },
    {
     "output_type": "stream",
     "name": "stdout",
     "text": [
      "\u001b[92m\u001b[1m[2021-10-14 09:09:55.803] | Success | \u001b[0m<COVAREP> computational sequence data in correct format.\n",
      "\u001b[94m\u001b[1m[2021-10-14 09:09:55.803] | Status  | \u001b[0mChecking the format of the metadata in <COVAREP> computational sequence ...\n",
      "\u001b[93m\u001b[1m[2021-10-14 09:09:55.803] | Warning | \u001b[0m<COVAREP> computational sequence does not have all the required metadata ... continuing \n",
      "\u001b[92m\u001b[1m[2021-10-14 09:09:55.806] | Success | \u001b[0mComputational sequence read from file cmumosi/CMU_MOSI_openSMILE_IS09.csd ...\n",
      "\u001b[94m\u001b[1m[2021-10-14 09:09:55.826] | Status  | \u001b[0mChecking the integrity of the <b'OpenSMILE'> computational sequence ...\n",
      "\u001b[94m\u001b[1m[2021-10-14 09:09:55.826] | Status  | \u001b[0mChecking the format of the data in <b'OpenSMILE'> computational sequence ...\n",
      "\u001b[92m\u001b[1m[2021-10-14 09:09:55.875] | Success | \u001b[0m<b'OpenSMILE'> computational sequence data in correct format.\n",
      "\u001b[94m\u001b[1m[2021-10-14 09:09:55.875] | Status  | \u001b[0mChecking the format of the metadata in <b'OpenSMILE'> computational sequence ...\n",
      "\u001b[93m\u001b[1m[2021-10-14 09:09:55.875] | Warning | \u001b[0m<b'OpenSMILE'> computational sequence does not have all the required metadata ... continuing \n",
      "\u001b[92m\u001b[1m[2021-10-14 09:09:55.877] | Success | \u001b[0mComputational sequence read from file cmumosi/CMU_MOSI_Visual_OpenFace_2.csd ...\n",
      "\u001b[94m\u001b[1m[2021-10-14 09:09:55.896] | Status  | \u001b[0mChecking the integrity of the <OpenFace_2> computational sequence ...\n",
      "\u001b[94m\u001b[1m[2021-10-14 09:09:55.896] | Status  | \u001b[0mChecking the format of the data in <OpenFace_2> computational sequence ...\n",
      "\u001b[92m\u001b[1m[2021-10-14 09:09:55.953] | Success | \u001b[0m<OpenFace_2> computational sequence data in correct format.\n",
      "\u001b[94m\u001b[1m[2021-10-14 09:09:55.953] | Status  | \u001b[0mChecking the format of the metadata in <OpenFace_2> computational sequence ...\n",
      "\u001b[93m\u001b[1m[2021-10-14 09:09:55.953] | Warning | \u001b[0m<OpenFace_2> computational sequence does not have all the required metadata ... continuing \n",
      "\u001b[92m\u001b[1m[2021-10-14 09:09:55.954] | Success | \u001b[0mComputational sequence read from file cmumosi/CMU_MOSI_Opinion_Labels.csd ...\n",
      "\u001b[94m\u001b[1m[2021-10-14 09:09:55.971] | Status  | \u001b[0mChecking the integrity of the <Opinion Segment Labels> computational sequence ...\n",
      "\u001b[94m\u001b[1m[2021-10-14 09:09:55.971] | Status  | \u001b[0mChecking the format of the data in <Opinion Segment Labels> computational sequence ...\n"
     ]
    },
    {
     "output_type": "stream",
     "name": "stderr",
     "text": [
      "                                                                   "
     ]
    },
    {
     "output_type": "stream",
     "name": "stdout",
     "text": [
      "\u001b[92m\u001b[1m[2021-10-14 09:09:56.015] | Success | \u001b[0m<Opinion Segment Labels> computational sequence data in correct format.\n",
      "\u001b[94m\u001b[1m[2021-10-14 09:09:56.015] | Status  | \u001b[0mChecking the format of the metadata in <Opinion Segment Labels> computational sequence ...\n",
      "\u001b[93m\u001b[1m[2021-10-14 09:09:56.015] | Warning | \u001b[0m<Opinion Segment Labels> computational sequence does not have all the required metadata ... continuing \n",
      "\u001b[92m\u001b[1m[2021-10-14 09:09:56.015] | Success | \u001b[0mDataset initialized successfully ... \n"
     ]
    },
    {
     "output_type": "stream",
     "name": "stderr",
     "text": []
    }
   ],
   "metadata": {}
  },
  {
   "cell_type": "code",
   "execution_count": 9,
   "source": [
    "#some random video from cmumosi_highlevel\n",
    "some_video=list(cmumosi_highlevel[\"glove_vectors\"].data.keys())[0]"
   ],
   "outputs": [],
   "metadata": {}
  },
  {
   "cell_type": "code",
   "execution_count": null,
   "source": [
    "#The next line is not needed for standard datasets as they are all sorted based on intervals in computational sequence entries\n",
    "cmumosi_highlevel.sort()"
   ],
   "outputs": [],
   "metadata": {}
  },
  {
   "cell_type": "code",
   "execution_count": 12,
   "source": [
    "#Aligning to the words to get word-level alignments\n",
    "cmumosi_highlevel.align('glove_vectors',collapse_functions=[myavg])\n",
    "cmumosi_highlevel.impute('glove_vectors')"
   ],
   "outputs": [
    {
     "output_type": "stream",
     "name": "stdout",
     "text": [
      "\u001b[94m\u001b[1m[2021-10-14 09:16:22.605] | Status  | \u001b[0mUnify was called ...\n",
      "\u001b[93m\u001b[1m[2021-10-14 09:16:22.605] | Warning | \u001b[0mc5xsKMxpXnc entry is not shared among all sequences, removing it ...\n",
      "\u001b[92m\u001b[1m[2021-10-14 09:16:22.606] | Success | \u001b[0mUnify completed ...\n",
      "\u001b[94m\u001b[1m[2021-10-14 09:16:22.606] | Status  | \u001b[0mPre-alignment based on <glove_vectors> computational sequence started ...\n",
      "\u001b[94m\u001b[1m[2021-10-14 09:16:23.548] | Status  | \u001b[0mPre-alignment done for <FACET_4.1> ...\n",
      "\u001b[94m\u001b[1m[2021-10-14 09:16:31.326] | Status  | \u001b[0mPre-alignment done for <OpenFace_2> ...\n",
      "\u001b[94m\u001b[1m[2021-10-14 09:16:32.413] | Status  | \u001b[0mPre-alignment done for <b'OpenSMILE'> ...\n",
      "\u001b[94m\u001b[1m[2021-10-14 09:16:32.566] | Status  | \u001b[0mPre-alignment done for <OpenSmile_emobase2010> ...\n",
      "\u001b[94m\u001b[1m[2021-10-14 09:16:36.648] | Status  | \u001b[0mPre-alignment done for <COVAREP> ...\n",
      "\u001b[94m\u001b[1m[2021-10-14 09:16:36.695] | Status  | \u001b[0mPre-alignment done for <Opinion Segment Labels> ...\n",
      "\u001b[94m\u001b[1m[2021-10-14 09:16:42.568] | Status  | \u001b[0mPre-alignment done for <OpenFace_1> ...\n",
      "\u001b[94m\u001b[1m[2021-10-14 09:16:43.492] | Status  | \u001b[0mPre-alignment done for <FACET_4.2> ...\n"
     ]
    },
    {
     "output_type": "stream",
     "name": "stderr",
     "text": [
      "Overall Progress:   0%|          | 0/92 [00:00<?, ? Computational Sequence Entries/s]"
     ]
    },
    {
     "output_type": "stream",
     "name": "stdout",
     "text": [
      "\u001b[94m\u001b[1m[2021-10-14 09:16:43.774] | Status  | \u001b[0mAlignment starting ...\n"
     ]
    },
    {
     "output_type": "stream",
     "name": "stderr",
     "text": [
      "                                                                                      "
     ]
    },
    {
     "output_type": "stream",
     "name": "stdout",
     "text": [
      "\u001b[92m\u001b[1m[2021-10-14 09:19:31.785] | Success | \u001b[0mAlignment to <glove_vectors> complete.\n",
      "\u001b[94m\u001b[1m[2021-10-14 09:19:31.785] | Status  | \u001b[0mReplacing dataset content with aligned computational sequences\n",
      "\u001b[92m\u001b[1m[2021-10-14 09:19:31.864] | Success | \u001b[0mInitialized empty <OpenFace_1> computational sequence.\n",
      "\u001b[94m\u001b[1m[2021-10-14 09:19:31.864] | Status  | \u001b[0mChecking the format of the data in <OpenFace_1> computational sequence ...\n"
     ]
    },
    {
     "output_type": "stream",
     "name": "stderr",
     "text": [
      "  0%|          | 0/31923 [00:00<?, ? Computational Sequence Entries/s]"
     ]
    },
    {
     "output_type": "stream",
     "name": "stdout",
     "text": [
      "\u001b[92m\u001b[1m[2021-10-14 09:19:31.988] | Success | \u001b[0m<OpenFace_1> computational sequence data in correct format.\n",
      "\u001b[94m\u001b[1m[2021-10-14 09:19:31.989] | Status  | \u001b[0mChecking the format of the metadata in <OpenFace_1> computational sequence ...\n",
      "\u001b[93m\u001b[1m[2021-10-14 09:19:31.989] | Warning | \u001b[0m<OpenFace_1> computational sequence does not have all the required metadata ... continuing \n",
      "\u001b[92m\u001b[1m[2021-10-14 09:19:31.989] | Success | \u001b[0mInitialized empty <FACET_4.2> computational sequence.\n",
      "\u001b[94m\u001b[1m[2021-10-14 09:19:31.989] | Status  | \u001b[0mChecking the format of the data in <FACET_4.2> computational sequence ...\n",
      "\u001b[92m\u001b[1m[2021-10-14 09:19:32.115] | Success | \u001b[0m<FACET_4.2> computational sequence data in correct format.\n",
      "\u001b[94m\u001b[1m[2021-10-14 09:19:32.115] | Status  | \u001b[0mChecking the format of the metadata in <FACET_4.2> computational sequence ...\n",
      "\u001b[93m\u001b[1m[2021-10-14 09:19:32.115] | Warning | \u001b[0m<FACET_4.2> computational sequence does not have all the required metadata ... continuing \n",
      "\u001b[92m\u001b[1m[2021-10-14 09:19:32.115] | Success | \u001b[0mInitialized empty <OpenSmile_emobase2010> computational sequence.\n",
      "\u001b[94m\u001b[1m[2021-10-14 09:19:32.115] | Status  | \u001b[0mChecking the format of the data in <OpenSmile_emobase2010> computational sequence ...\n"
     ]
    },
    {
     "output_type": "stream",
     "name": "stderr",
     "text": [
      "  0%|          | 0/49242 [00:00<?, ? Computational Sequence Entries/s]"
     ]
    },
    {
     "output_type": "stream",
     "name": "stdout",
     "text": [
      "\u001b[92m\u001b[1m[2021-10-14 09:19:32.205] | Success | \u001b[0m<OpenSmile_emobase2010> computational sequence data in correct format.\n",
      "\u001b[94m\u001b[1m[2021-10-14 09:19:32.205] | Status  | \u001b[0mChecking the format of the metadata in <OpenSmile_emobase2010> computational sequence ...\n",
      "\u001b[93m\u001b[1m[2021-10-14 09:19:32.205] | Warning | \u001b[0m<OpenSmile_emobase2010> computational sequence does not have all the required metadata ... continuing \n",
      "\u001b[92m\u001b[1m[2021-10-14 09:19:32.205] | Success | \u001b[0mInitialized empty <glove_vectors> computational sequence.\n",
      "\u001b[94m\u001b[1m[2021-10-14 09:19:32.205] | Status  | \u001b[0mChecking the format of the data in <glove_vectors> computational sequence ...\n",
      "\u001b[92m\u001b[1m[2021-10-14 09:19:32.335] | Success | \u001b[0m<glove_vectors> computational sequence data in correct format.\n",
      "\u001b[94m\u001b[1m[2021-10-14 09:19:32.335] | Status  | \u001b[0mChecking the format of the metadata in <glove_vectors> computational sequence ...\n",
      "\u001b[93m\u001b[1m[2021-10-14 09:19:32.335] | Warning | \u001b[0m<glove_vectors> computational sequence does not have all the required metadata ... continuing \n",
      "\u001b[92m\u001b[1m[2021-10-14 09:19:32.335] | Success | \u001b[0mInitialized empty <FACET_4.1> computational sequence.\n",
      "\u001b[94m\u001b[1m[2021-10-14 09:19:32.335] | Status  | \u001b[0mChecking the format of the data in <FACET_4.1> computational sequence ...\n"
     ]
    },
    {
     "output_type": "stream",
     "name": "stderr",
     "text": [
      "  0%|          | 0/49261 [00:00<?, ? Computational Sequence Entries/s]"
     ]
    },
    {
     "output_type": "stream",
     "name": "stdout",
     "text": [
      "\u001b[92m\u001b[1m[2021-10-14 09:19:32.471] | Success | \u001b[0m<FACET_4.1> computational sequence data in correct format.\n",
      "\u001b[94m\u001b[1m[2021-10-14 09:19:32.471] | Status  | \u001b[0mChecking the format of the metadata in <FACET_4.1> computational sequence ...\n",
      "\u001b[93m\u001b[1m[2021-10-14 09:19:32.471] | Warning | \u001b[0m<FACET_4.1> computational sequence does not have all the required metadata ... continuing \n",
      "\u001b[92m\u001b[1m[2021-10-14 09:19:32.471] | Success | \u001b[0mInitialized empty <COVAREP> computational sequence.\n",
      "\u001b[94m\u001b[1m[2021-10-14 09:19:32.471] | Status  | \u001b[0mChecking the format of the data in <COVAREP> computational sequence ...\n",
      "\u001b[92m\u001b[1m[2021-10-14 09:19:32.600] | Success | \u001b[0m<COVAREP> computational sequence data in correct format.\n",
      "\u001b[94m\u001b[1m[2021-10-14 09:19:32.600] | Status  | \u001b[0mChecking the format of the metadata in <COVAREP> computational sequence ...\n",
      "\u001b[93m\u001b[1m[2021-10-14 09:19:32.600] | Warning | \u001b[0m<COVAREP> computational sequence does not have all the required metadata ... continuing \n",
      "\u001b[92m\u001b[1m[2021-10-14 09:19:32.600] | Success | \u001b[0mInitialized empty <b'OpenSMILE'> computational sequence.\n",
      "\u001b[94m\u001b[1m[2021-10-14 09:19:32.600] | Status  | \u001b[0mChecking the format of the data in <b'OpenSMILE'> computational sequence ...\n"
     ]
    },
    {
     "output_type": "stream",
     "name": "stderr",
     "text": [
      "Imputation Progress:   0%|          | 0/49261 [00:00<?, ? Reference Computational Sequence Entries/s]"
     ]
    },
    {
     "output_type": "stream",
     "name": "stdout",
     "text": [
      "\u001b[92m\u001b[1m[2021-10-14 09:19:32.729] | Success | \u001b[0m<b'OpenSMILE'> computational sequence data in correct format.\n",
      "\u001b[94m\u001b[1m[2021-10-14 09:19:32.729] | Status  | \u001b[0mChecking the format of the metadata in <b'OpenSMILE'> computational sequence ...\n",
      "\u001b[93m\u001b[1m[2021-10-14 09:19:32.729] | Warning | \u001b[0m<b'OpenSMILE'> computational sequence does not have all the required metadata ... continuing \n",
      "\u001b[92m\u001b[1m[2021-10-14 09:19:32.729] | Success | \u001b[0mInitialized empty <OpenFace_2> computational sequence.\n",
      "\u001b[94m\u001b[1m[2021-10-14 09:19:32.729] | Status  | \u001b[0mChecking the format of the data in <OpenFace_2> computational sequence ...\n",
      "\u001b[92m\u001b[1m[2021-10-14 09:19:32.731] | Success | \u001b[0m<OpenFace_2> computational sequence data in correct format.\n",
      "\u001b[94m\u001b[1m[2021-10-14 09:19:32.731] | Status  | \u001b[0mChecking the format of the metadata in <OpenFace_2> computational sequence ...\n",
      "\u001b[93m\u001b[1m[2021-10-14 09:19:32.731] | Warning | \u001b[0m<OpenFace_2> computational sequence does not have all the required metadata ... continuing \n",
      "\u001b[92m\u001b[1m[2021-10-14 09:19:32.731] | Success | \u001b[0mInitialized empty <Opinion Segment Labels> computational sequence.\n",
      "\u001b[94m\u001b[1m[2021-10-14 09:19:32.731] | Status  | \u001b[0mChecking the format of the data in <Opinion Segment Labels> computational sequence ...\n",
      "\u001b[92m\u001b[1m[2021-10-14 09:19:32.816] | Success | \u001b[0m<Opinion Segment Labels> computational sequence data in correct format.\n",
      "\u001b[94m\u001b[1m[2021-10-14 09:19:32.816] | Status  | \u001b[0mChecking the format of the metadata in <Opinion Segment Labels> computational sequence ...\n",
      "\u001b[93m\u001b[1m[2021-10-14 09:19:32.816] | Warning | \u001b[0m<Opinion Segment Labels> computational sequence does not have all the required metadata ... continuing \n",
      "\u001b[94m\u001b[1m[2021-10-14 09:19:32.821] | Status  | \u001b[0mImputation called with function: zeros ...\n"
     ]
    },
    {
     "output_type": "stream",
     "name": "stderr",
     "text": [
      "                                                                                                                    "
     ]
    },
    {
     "output_type": "stream",
     "name": "stdout",
     "text": [
      "\u001b[92m\u001b[1m[2021-10-14 09:19:34.135] | Success | \u001b[0mImputation completed ...\n"
     ]
    },
    {
     "output_type": "stream",
     "name": "stderr",
     "text": []
    }
   ],
   "metadata": {}
  },
  {
   "cell_type": "code",
   "execution_count": 13,
   "source": [
    "#get the intervals and features accompanying the 100th word in the some_video\n",
    "some_video_100th_word=some_video+'[100]'\n",
    "for compseq_name in list(cmumosi_highlevel.computational_sequences.keys()):\n",
    "\tcompseq=cmumosi_highlevel[compseq_name]\n",
    "\tprint (compseq_name)\n",
    "\tprint (numpy.array(compseq.data[some_video_100th_word][\"intervals\"]).shape,numpy.array(compseq.data[some_video_100th_word][\"features\"]).shape)\n",
    "\tprint (\"-------\")"
   ],
   "outputs": [
    {
     "output_type": "stream",
     "name": "stdout",
     "text": [
      "OpenFace_1\n",
      "(1, 2) (1, 430)\n",
      "-------\n",
      "FACET_4.2\n",
      "(1, 2) (1, 35)\n",
      "-------\n",
      "OpenSmile_emobase2010\n",
      "(1, 2) (1, 1585)\n",
      "-------\n",
      "glove_vectors\n",
      "(1, 2) (1, 300)\n",
      "-------\n",
      "FACET_4.1\n",
      "(1, 2) (1, 47)\n",
      "-------\n",
      "COVAREP\n",
      "(1, 2) (1, 74)\n",
      "-------\n",
      "b'OpenSMILE'\n",
      "(1, 2) (1, 384)\n",
      "-------\n",
      "OpenFace_2\n",
      "(1, 2) (1, 713)\n",
      "-------\n",
      "Opinion Segment Labels\n",
      "(1, 2) (1, 1)\n",
      "-------\n"
     ]
    }
   ],
   "metadata": {}
  },
  {
   "cell_type": "markdown",
   "source": [
    "k번째 비디오의 100번째 단어의 computational sequence를 관찰한 결과,\n",
    "\n",
    "* Text - glove_vectors (feature: 300)\n",
    "\n",
    "* Image - OpenFace_1 (430), FACET_4.2 (35), FACET_4.1 (47), COVAREP(74), OpenFace_2 (713)\n",
    "\n",
    "* Audio - OpenSmile_emobase2010 (1585), b'OpenSMILE (384)\n",
    "\n",
    "이를 통해 embedding feature 수 파악 가능.\n",
    "\n",
    "*참고로 k번째 비디오는 glove_vector로 리스트업 하여 추출한 것.*\n",
    "\n",
    "```python\n",
    "#some random video from cmumosi_highlevel\n",
    "some_video=list(cmumosi_highlevel[\"glove_vectors\"].data.keys())[0]\n",
    "```"
   ],
   "metadata": {}
  },
  {
   "cell_type": "markdown",
   "source": [
    "![computational sequence](examples/compseq.png)"
   ],
   "metadata": {}
  },
  {
   "cell_type": "markdown",
   "source": [
    "2번째 비디오를 관찰해보아도 마찬가지의 결과"
   ],
   "metadata": {}
  },
  {
   "cell_type": "code",
   "execution_count": 15,
   "source": [
    "#get the intervals and features accompanying the 2nd in some_video\n",
    "some_video_2nd_segment=some_video+'[2]'\n",
    "for compseq_name in list(cmumosi_highlevel.computational_sequences.keys()):\n",
    "\tcompseq=cmumosi_highlevel[compseq_name]\n",
    "\tprint (compseq_name)\n",
    "\tprint (numpy.array(compseq.data[some_video_2nd_segment][\"intervals\"]).shape,numpy.array(compseq.data[some_video_2nd_segment][\"features\"]).shape)\n",
    "\tprint (\"-------\")"
   ],
   "outputs": [
    {
     "output_type": "stream",
     "name": "stdout",
     "text": [
      "OpenFace_1\n",
      "(1, 2) (1, 430)\n",
      "-------\n",
      "FACET_4.2\n",
      "(1, 2) (1, 35)\n",
      "-------\n",
      "OpenSmile_emobase2010\n",
      "(1, 2) (1, 1585)\n",
      "-------\n",
      "glove_vectors\n",
      "(1, 2) (1, 300)\n",
      "-------\n",
      "FACET_4.1\n",
      "(1, 2) (1, 47)\n",
      "-------\n",
      "COVAREP\n",
      "(1, 2) (1, 74)\n",
      "-------\n",
      "b'OpenSMILE'\n",
      "(1, 2) (1, 384)\n",
      "-------\n",
      "OpenFace_2\n",
      "(1, 2) (1, 713)\n",
      "-------\n",
      "Opinion Segment Labels\n",
      "(1, 2) (1, 1)\n",
      "-------\n"
     ]
    }
   ],
   "metadata": {}
  },
  {
   "cell_type": "code",
   "execution_count": 17,
   "source": [
    "#Deploying the files to the disk and reading them again - Building machine learning models start right after this. No need to do alignment multiple times since aligned files can be deployed and used again.\n",
    "# deploy_files={x:x for x in cmumosi_highlevel.computational_sequences.keys()}\n",
    "# cmumosi_highlevel.deploy(\"./deployed\",deploy_files)\n",
    "\n",
    "#Reading the dumped file can be as easy as just calling the mmdataset on the deployed folder\n",
    "# aligned_cmumosi_highlevel=mmdatasdk.mmdataset('./deployed')\n",
    "\n",
    "#Now let's get the tensor ready for ML - right here we just get everything into ML ready tensors. But you should split the aligned_cmumosi_highlevel based on the standard CMU MOSI folds\n",
    "#get the standard folds using mmsdk.mmdatasdk.cmu_mosi.standard_folds.standard_x_fold for x={train,test,valid}\n"
   ],
   "outputs": [],
   "metadata": {}
  },
  {
   "cell_type": "markdown",
   "source": [
    "Deployed files(파이썬 배포 csd파일) 저장 완료 상태."
   ],
   "metadata": {}
  },
  {
   "cell_type": "code",
   "execution_count": 18,
   "source": [
    "tensors=cmumosi_highlevel.get_tensors(seq_len=25,non_sequences=[\"Opinion Segment Labels\"],direction=False,folds=[mmdatasdk.cmu_mosi.standard_folds.standard_train_fold,mmdatasdk.cmu_mosi.standard_folds.standard_valid_fold,mmdatasdk.cmu_mosi.standard_folds.standard_test_fold])"
   ],
   "outputs": [
    {
     "output_type": "stream",
     "name": "stdout",
     "text": [
      "\u001b[94m\u001b[1m[2021-10-14 09:49:24.785] | Status  | \u001b[0mHard unify was called ...\n",
      "\u001b[92m\u001b[1m[2021-10-14 09:49:25.133] | Success | \u001b[0mHard unify completed ...\n"
     ]
    }
   ],
   "metadata": {}
  },
  {
   "cell_type": "code",
   "execution_count": null,
   "source": [
    "fold_names=[\"train\",\"valid\",\"test\"]"
   ],
   "outputs": [
    {
     "output_type": "error",
     "ename": "Error",
     "evalue": "Session cannot generate requests",
     "traceback": [
      "Error: Session cannot generate requests",
      "at w.executeCodeCell (/root/.vscode-server/extensions/ms-toolsai.jupyter-2021.8.2041215044/out/client/extension.js:52:301310)",
      "at w.execute (/root/.vscode-server/extensions/ms-toolsai.jupyter-2021.8.2041215044/out/client/extension.js:52:300703)",
      "at w.start (/root/.vscode-server/extensions/ms-toolsai.jupyter-2021.8.2041215044/out/client/extension.js:52:296367)",
      "at runMicrotasks (<anonymous>)",
      "at processTicksAndRejections (internal/process/task_queues.js:93:5)",
      "at async t.CellExecutionQueue.executeQueuedCells (/root/.vscode-server/extensions/ms-toolsai.jupyter-2021.8.2041215044/out/client/extension.js:52:311160)",
      "at async t.CellExecutionQueue.start (/root/.vscode-server/extensions/ms-toolsai.jupyter-2021.8.2041215044/out/client/extension.js:52:310700)"
     ]
    }
   ],
   "metadata": {}
  },
  {
   "cell_type": "code",
   "execution_count": null,
   "source": [],
   "outputs": [],
   "metadata": {}
  }
 ],
 "metadata": {
  "kernelspec": {
   "name": "python3",
   "display_name": "Python 3.8.8 64-bit ('base': conda)"
  },
  "language_info": {
   "codemirror_mode": {
    "name": "ipython",
    "version": 3
   },
   "file_extension": ".py",
   "mimetype": "text/x-python",
   "name": "python",
   "nbconvert_exporter": "python",
   "pygments_lexer": "ipython3",
   "version": "3.8.8"
  },
  "interpreter": {
   "hash": "98b0a9b7b4eaaa670588a142fd0a9b87eaafe866f1db4228be72b4211d12040f"
  }
 },
 "nbformat": 4,
 "nbformat_minor": 5
}