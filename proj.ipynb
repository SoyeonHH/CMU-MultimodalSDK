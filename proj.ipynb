{
 "cells": [
  {
   "cell_type": "markdown",
   "id": "41ac02d6-bf8f-4615-bed2-3d61b5dec893",
   "metadata": {},
   "source": [
    "# CMU-MOSI Multimodal SDK"
   ]
  },
  {
   "cell_type": "markdown",
   "id": "7f070960-19f0-4014-ad8c-411f6ed9fca9",
   "metadata": {},
   "source": [
    "## Process mosi"
   ]
  },
  {
   "cell_type": "markdown",
   "id": "dbb9b6fa-2de4-4b54-9584-12cfc040218d",
   "metadata": {},
   "source": [
    "### word level align"
   ]
  },
  {
   "cell_type": "code",
   "execution_count": 3,
   "id": "52c5630b-821e-4d84-af81-523a679fa76a",
   "metadata": {},
   "outputs": [
    {
     "name": "stderr",
     "output_type": "stream",
     "text": [
      "/workspace/CMU-MultimodalSDK/mmsdk/mmdatasdk/computational_sequence/file_ops.py:53: SyntaxWarning: \"is\" with a literal. Did you mean \"==\"?\n",
      "  metadataHandle.create_dataset(metadataKey,(1,),dtype=h5py.special_dtype(vlen=unicode) if sys.version_info.major is 2 else h5py.special_dtype(vlen=str))\n",
      "/workspace/CMU-MultimodalSDK/mmsdk/mmdatasdk/computational_sequence/file_ops.py:54: SyntaxWarning: \"is\" with a literal. Did you mean \"==\"?\n",
      "  cast_operator=unicode if sys.version_info.major is 2 else str\n"
     ]
    }
   ],
   "source": [
    "import mmsdk\n",
    "from mmsdk import mmdatasdk\n",
    "import numpy"
   ]
  },
  {
   "cell_type": "code",
   "execution_count": 4,
   "id": "9bb46735-802c-4f1d-81b3-91d1b75faeb2",
   "metadata": {},
   "outputs": [],
   "source": [
    "#A simple averaging technique. More advanced methods can be built based on intervals.\n",
    "def myavg(intervals,features):\n",
    "        return numpy.average(features,axis=0)"
   ]
  },
  {
   "cell_type": "code",
   "execution_count": 5,
   "id": "6cc80312-f426-4dfd-8dd3-c60a2481fea2",
   "metadata": {},
   "outputs": [
    {
     "name": "stderr",
     "output_type": "stream",
     "text": [
      "  0%|          | 14/63392 [00:00<13:44, 76.91kB/s, Total in kBs]"
     ]
    },
    {
     "name": "stdout",
     "output_type": "stream",
     "text": [
      "\u001b[94m\u001b[1m[2021-09-30 13:50:09.382] | Status  | \u001b[0mDownloading from http://immortal.multicomp.cs.cmu.edu/CMU-MOSI/language/CMU_MOSI_TimestampedWordVectors.csd to cmumosi/CMU_MOSI_TimestampedWordVectors.csd...\n"
     ]
    },
    {
     "name": "stderr",
     "output_type": "stream",
     "text": [
      "                                                                     \r"
     ]
    },
    {
     "name": "stdout",
     "output_type": "stream",
     "text": [
      "\u001b[92m\u001b[1m[2021-09-30 13:50:27.174] | Success | \u001b[0mDownload complete!\n",
      "\u001b[92m\u001b[1m[2021-09-30 13:50:27.175] | Success | \u001b[0mComputational sequence read from file cmumosi/CMU_MOSI_TimestampedWordVectors.csd ...\n",
      "\u001b[94m\u001b[1m[2021-09-30 13:50:27.184] | Status  | \u001b[0mChecking the integrity of the <glove_vectors> computational sequence ...\n",
      "\u001b[94m\u001b[1m[2021-09-30 13:50:27.184] | Status  | \u001b[0mChecking the format of the data in <glove_vectors> computational sequence ...\n",
      "\u001b[92m\u001b[1m[2021-09-30 13:50:27.224] | Success | \u001b[0m<glove_vectors> computational sequence data in correct format.\n",
      "\u001b[94m\u001b[1m[2021-09-30 13:50:27.224] | Status  | \u001b[0mChecking the format of the metadata in <glove_vectors> computational sequence ...\n",
      "\u001b[93m\u001b[1m[2021-09-30 13:50:27.224] | Warning | \u001b[0m<glove_vectors> computational sequence does not have all the required metadata ... continuing \n"
     ]
    },
    {
     "name": "stderr",
     "output_type": "stream",
     "text": [
      "  0%|          | 14/71793 [00:00<16:06, 74.23kB/s, Total in kBs]"
     ]
    },
    {
     "name": "stdout",
     "output_type": "stream",
     "text": [
      "\u001b[94m\u001b[1m[2021-09-30 13:50:27.636] | Status  | \u001b[0mDownloading from http://immortal.multicomp.cs.cmu.edu/CMU-MOSI/visual/CMU_MOSI_Visual_Facet_41.csd to cmumosi/CMU_MOSI_Visual_Facet_41.csd...\n"
     ]
    },
    {
     "name": "stderr",
     "output_type": "stream",
     "text": [
      "                                                                     \r"
     ]
    },
    {
     "name": "stdout",
     "output_type": "stream",
     "text": [
      "\u001b[92m\u001b[1m[2021-09-30 13:50:50.015] | Success | \u001b[0mDownload complete!\n",
      "\u001b[92m\u001b[1m[2021-09-30 13:50:50.017] | Success | \u001b[0mComputational sequence read from file cmumosi/CMU_MOSI_Visual_Facet_41.csd ...\n",
      "\u001b[94m\u001b[1m[2021-09-30 13:50:50.031] | Status  | \u001b[0mChecking the integrity of the <FACET_4.1> computational sequence ...\n",
      "\u001b[94m\u001b[1m[2021-09-30 13:50:50.031] | Status  | \u001b[0mChecking the format of the data in <FACET_4.1> computational sequence ...\n",
      "\u001b[92m\u001b[1m[2021-09-30 13:50:50.077] | Success | \u001b[0m<FACET_4.1> computational sequence data in correct format.\n",
      "\u001b[94m\u001b[1m[2021-09-30 13:50:50.077] | Status  | \u001b[0mChecking the format of the metadata in <FACET_4.1> computational sequence ...\n",
      "\u001b[93m\u001b[1m[2021-09-30 13:50:50.077] | Warning | \u001b[0m<FACET_4.1> computational sequence does not have all the required metadata ... continuing \n"
     ]
    },
    {
     "name": "stderr",
     "output_type": "stream",
     "text": [
      "  0%|          | 14/55486 [00:00<12:38, 73.10kB/s, Total in kBs]"
     ]
    },
    {
     "name": "stdout",
     "output_type": "stream",
     "text": [
      "\u001b[94m\u001b[1m[2021-09-30 13:50:50.867] | Status  | \u001b[0mDownloading from http://immortal.multicomp.cs.cmu.edu/CMU-MOSI/visual/CMU_MOSI_Visual_Facet_42.csd to cmumosi/CMU_MOSI_Visual_Facet_42.csd...\n"
     ]
    },
    {
     "name": "stderr",
     "output_type": "stream",
     "text": [
      "                                                                     \r"
     ]
    },
    {
     "name": "stdout",
     "output_type": "stream",
     "text": [
      "\u001b[92m\u001b[1m[2021-09-30 13:51:08.230] | Success | \u001b[0mDownload complete!\n",
      "\u001b[92m\u001b[1m[2021-09-30 13:51:08.230] | Success | \u001b[0mComputational sequence read from file cmumosi/CMU_MOSI_Visual_Facet_42.csd ...\n",
      "\u001b[94m\u001b[1m[2021-09-30 13:51:08.238] | Status  | \u001b[0mChecking the integrity of the <FACET_4.2> computational sequence ...\n",
      "\u001b[94m\u001b[1m[2021-09-30 13:51:08.238] | Status  | \u001b[0mChecking the format of the data in <FACET_4.2> computational sequence ...\n",
      "\u001b[92m\u001b[1m[2021-09-30 13:51:08.276] | Success | \u001b[0m<FACET_4.2> computational sequence data in correct format.\n",
      "\u001b[94m\u001b[1m[2021-09-30 13:51:08.276] | Status  | \u001b[0mChecking the format of the metadata in <FACET_4.2> computational sequence ...\n",
      "\u001b[93m\u001b[1m[2021-09-30 13:51:08.276] | Warning | \u001b[0m<FACET_4.2> computational sequence does not have all the required metadata ... continuing \n"
     ]
    },
    {
     "name": "stderr",
     "output_type": "stream",
     "text": [
      "  0%|          | 14/13253 [00:00<02:57, 74.39kB/s, Total in kBs]"
     ]
    },
    {
     "name": "stdout",
     "output_type": "stream",
     "text": [
      "\u001b[94m\u001b[1m[2021-09-30 13:51:09.090] | Status  | \u001b[0mDownloading from http://immortal.multicomp.cs.cmu.edu/CMU-MOSI/acoustic/CMU_MOSI_OpenSmile_EB10.csd to cmumosi/CMU_MOSI_OpenSmile_EB10.csd...\n"
     ]
    },
    {
     "name": "stderr",
     "output_type": "stream",
     "text": [
      "                                                                     \r"
     ]
    },
    {
     "name": "stdout",
     "output_type": "stream",
     "text": [
      "\u001b[92m\u001b[1m[2021-09-30 13:51:13.377] | Success | \u001b[0mDownload complete!\n",
      "\u001b[92m\u001b[1m[2021-09-30 13:51:13.378] | Success | \u001b[0mComputational sequence read from file cmumosi/CMU_MOSI_OpenSmile_EB10.csd ...\n",
      "\u001b[94m\u001b[1m[2021-09-30 13:51:13.385] | Status  | \u001b[0mChecking the integrity of the <OpenSmile_emobase2010> computational sequence ...\n",
      "\u001b[94m\u001b[1m[2021-09-30 13:51:13.385] | Status  | \u001b[0mChecking the format of the data in <OpenSmile_emobase2010> computational sequence ...\n",
      "\u001b[92m\u001b[1m[2021-09-30 13:51:13.425] | Success | \u001b[0m<OpenSmile_emobase2010> computational sequence data in correct format.\n",
      "\u001b[94m\u001b[1m[2021-09-30 13:51:13.425] | Status  | \u001b[0mChecking the format of the metadata in <OpenSmile_emobase2010> computational sequence ...\n",
      "\u001b[93m\u001b[1m[2021-09-30 13:51:13.425] | Warning | \u001b[0m<OpenSmile_emobase2010> computational sequence does not have all the required metadata ... continuing \n"
     ]
    },
    {
     "name": "stderr",
     "output_type": "stream",
     "text": [
      "  0%|          | 14/437495 [00:00<1:34:14, 77.37kB/s, Total in kBs]"
     ]
    },
    {
     "name": "stdout",
     "output_type": "stream",
     "text": [
      "\u001b[94m\u001b[1m[2021-09-30 13:51:13.815] | Status  | \u001b[0mDownloading from http://immortal.multicomp.cs.cmu.edu/CMU-MOSI/acoustic/CMU_MOSI_openSMILE_IS09.csd to cmumosi/CMU_MOSI_openSMILE_IS09.csd...\n"
     ]
    },
    {
     "name": "stderr",
     "output_type": "stream",
     "text": [
      "                                                                       \r"
     ]
    },
    {
     "name": "stdout",
     "output_type": "stream",
     "text": [
      "\u001b[92m\u001b[1m[2021-09-30 13:53:00.744] | Success | \u001b[0mDownload complete!\n",
      "\u001b[92m\u001b[1m[2021-09-30 13:53:00.745] | Success | \u001b[0mComputational sequence read from file cmumosi/CMU_MOSI_openSMILE_IS09.csd ...\n",
      "\u001b[94m\u001b[1m[2021-09-30 13:53:00.758] | Status  | \u001b[0mChecking the integrity of the <b'OpenSMILE'> computational sequence ...\n",
      "\u001b[94m\u001b[1m[2021-09-30 13:53:00.758] | Status  | \u001b[0mChecking the format of the data in <b'OpenSMILE'> computational sequence ...\n",
      "\u001b[92m\u001b[1m[2021-09-30 13:53:00.793] | Success | \u001b[0m<b'OpenSMILE'> computational sequence data in correct format.\n",
      "\u001b[94m\u001b[1m[2021-09-30 13:53:00.793] | Status  | \u001b[0mChecking the format of the metadata in <b'OpenSMILE'> computational sequence ...\n",
      "\u001b[93m\u001b[1m[2021-09-30 13:53:00.793] | Warning | \u001b[0m<b'OpenSMILE'> computational sequence does not have all the required metadata ... continuing \n"
     ]
    },
    {
     "name": "stderr",
     "output_type": "stream",
     "text": [
      "  0%|          | 14/586565 [00:00<2:12:14, 73.92kB/s, Total in kBs]"
     ]
    },
    {
     "name": "stdout",
     "output_type": "stream",
     "text": [
      "\u001b[94m\u001b[1m[2021-09-30 13:53:01.609] | Status  | \u001b[0mDownloading from http://immortal.multicomp.cs.cmu.edu/CMU-MOSI/visual/CMU_MOSI_Visual_OpenFace_1.csd to cmumosi/CMU_MOSI_Visual_OpenFace_1.csd...\n"
     ]
    },
    {
     "name": "stderr",
     "output_type": "stream",
     "text": [
      "                                                                       \r"
     ]
    },
    {
     "name": "stdout",
     "output_type": "stream",
     "text": [
      "\u001b[92m\u001b[1m[2021-09-30 13:55:42.055] | Success | \u001b[0mDownload complete!\n",
      "\u001b[92m\u001b[1m[2021-09-30 13:55:42.056] | Success | \u001b[0mComputational sequence read from file cmumosi/CMU_MOSI_Visual_OpenFace_1.csd ...\n",
      "\u001b[94m\u001b[1m[2021-09-30 13:55:42.067] | Status  | \u001b[0mChecking the integrity of the <OpenFace_1> computational sequence ...\n",
      "\u001b[94m\u001b[1m[2021-09-30 13:55:42.067] | Status  | \u001b[0mChecking the format of the data in <OpenFace_1> computational sequence ...\n",
      "\u001b[92m\u001b[1m[2021-09-30 13:55:42.106] | Success | \u001b[0m<OpenFace_1> computational sequence data in correct format.\n",
      "\u001b[94m\u001b[1m[2021-09-30 13:55:42.106] | Status  | \u001b[0mChecking the format of the metadata in <OpenFace_1> computational sequence ...\n",
      "\u001b[93m\u001b[1m[2021-09-30 13:55:42.106] | Warning | \u001b[0m<OpenFace_1> computational sequence does not have all the required metadata ... continuing \n"
     ]
    },
    {
     "name": "stderr",
     "output_type": "stream",
     "text": [
      "  0%|          | 14/533081 [00:00<1:56:15, 76.42kB/s, Total in kBs]"
     ]
    },
    {
     "name": "stdout",
     "output_type": "stream",
     "text": [
      "\u001b[94m\u001b[1m[2021-09-30 13:55:42.881] | Status  | \u001b[0mDownloading from http://immortal.multicomp.cs.cmu.edu/CMU-MOSI/visual/CMU_MOSI_Visual_OpenFace_2.csd to cmumosi/CMU_MOSI_Visual_OpenFace_2.csd...\n"
     ]
    },
    {
     "name": "stderr",
     "output_type": "stream",
     "text": [
      "                                                                       \r"
     ]
    },
    {
     "name": "stdout",
     "output_type": "stream",
     "text": [
      "\u001b[92m\u001b[1m[2021-09-30 13:57:53.565] | Success | \u001b[0mDownload complete!\n",
      "\u001b[92m\u001b[1m[2021-09-30 13:57:53.566] | Success | \u001b[0mComputational sequence read from file cmumosi/CMU_MOSI_Visual_OpenFace_2.csd ...\n",
      "\u001b[94m\u001b[1m[2021-09-30 13:57:53.573] | Status  | \u001b[0mChecking the integrity of the <OpenFace_2> computational sequence ...\n",
      "\u001b[94m\u001b[1m[2021-09-30 13:57:53.573] | Status  | \u001b[0mChecking the format of the data in <OpenFace_2> computational sequence ...\n",
      "\u001b[92m\u001b[1m[2021-09-30 13:57:53.611] | Success | \u001b[0m<OpenFace_2> computational sequence data in correct format.\n",
      "\u001b[94m\u001b[1m[2021-09-30 13:57:53.611] | Status  | \u001b[0mChecking the format of the metadata in <OpenFace_2> computational sequence ...\n",
      "\u001b[93m\u001b[1m[2021-09-30 13:57:53.611] | Warning | \u001b[0m<OpenFace_2> computational sequence does not have all the required metadata ... continuing \n"
     ]
    },
    {
     "name": "stderr",
     "output_type": "stream",
     "text": [
      "  0%|          | 14/351067 [00:00<1:16:22, 76.61kB/s, Total in kBs]"
     ]
    },
    {
     "name": "stdout",
     "output_type": "stream",
     "text": [
      "\u001b[94m\u001b[1m[2021-09-30 13:57:54.403] | Status  | \u001b[0mDownloading from http://immortal.multicomp.cs.cmu.edu/CMU-MOSI/acoustic/CMU_MOSI_COVAREP.csd to cmumosi/CMU_MOSI_COVAREP.csd...\n"
     ]
    },
    {
     "name": "stderr",
     "output_type": "stream",
     "text": [
      "                                                                       "
     ]
    },
    {
     "name": "stdout",
     "output_type": "stream",
     "text": [
      "\u001b[92m\u001b[1m[2021-09-30 13:59:20.429] | Success | \u001b[0mDownload complete!\n",
      "\u001b[92m\u001b[1m[2021-09-30 13:59:20.430] | Success | \u001b[0mComputational sequence read from file cmumosi/CMU_MOSI_COVAREP.csd ...\n",
      "\u001b[94m\u001b[1m[2021-09-30 13:59:20.437] | Status  | \u001b[0mChecking the integrity of the <COVAREP> computational sequence ...\n",
      "\u001b[94m\u001b[1m[2021-09-30 13:59:20.437] | Status  | \u001b[0mChecking the format of the data in <COVAREP> computational sequence ...\n",
      "\u001b[92m\u001b[1m[2021-09-30 13:59:20.477] | Success | \u001b[0m<COVAREP> computational sequence data in correct format.\n",
      "\u001b[94m\u001b[1m[2021-09-30 13:59:20.477] | Status  | \u001b[0mChecking the format of the metadata in <COVAREP> computational sequence ...\n",
      "\u001b[93m\u001b[1m[2021-09-30 13:59:20.477] | Warning | \u001b[0m<COVAREP> computational sequence does not have all the required metadata ... continuing \n",
      "\u001b[92m\u001b[1m[2021-09-30 13:59:20.477] | Success | \u001b[0mDataset initialized successfully ... \n"
     ]
    },
    {
     "name": "stderr",
     "output_type": "stream",
     "text": [
      "\r"
     ]
    }
   ],
   "source": [
    "#Downloading the dataset\n",
    "cmumosi_highlevel=mmdatasdk.mmdataset(mmdatasdk.cmu_mosi.highlevel,'cmumosi/')"
   ]
  },
  {
   "cell_type": "code",
   "execution_count": null,
   "id": "f5351442-2dff-4ef2-ac8c-ca745ab557dd",
   "metadata": {},
   "outputs": [],
   "source": []
  }
 ],
 "metadata": {
  "kernelspec": {
   "display_name": "Python 3",
   "language": "python",
   "name": "python3"
  },
  "language_info": {
   "codemirror_mode": {
    "name": "ipython",
    "version": 3
   },
   "file_extension": ".py",
   "mimetype": "text/x-python",
   "name": "python",
   "nbconvert_exporter": "python",
   "pygments_lexer": "ipython3",
   "version": "3.8.8"
  }
 },
 "nbformat": 4,
 "nbformat_minor": 5
}
